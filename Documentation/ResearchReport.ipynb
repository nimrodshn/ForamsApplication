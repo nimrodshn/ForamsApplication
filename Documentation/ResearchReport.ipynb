{
 "cells": [
  {
   "cell_type": "markdown",
   "metadata": {},
   "source": [
    "<h2 align='center'>Research Report - 'PiTex'</h2>"
   ]
  },
  {
   "cell_type": "markdown",
   "metadata": {},
   "source": [
    "<h3 align='left'>Background:</h3>"
   ]
  },
  {
   "cell_type": "markdown",
   "metadata": {},
   "source": [
    "<p dir='rtl;>\n",
    "כיום, חלקים נרחבים מהמחקרים הסביבתיים נעשים באמצעות שיטת \"ביו-מוניטורינג\", בשיטה זו נעשה מעקב אחר מאסף המינים החיים בסביבה מסויימת, תחת ההנחה ששינויים בהרכב מאסף המינים משקפים את השינוי הסביבתי. לדוג': זיהום יכול לגרום לירידה באחוז המינים הרגישים במאסף. כיום החוקרים סופרים ומקטלגים בעצמם את המינים השונים במאסף. פעולה זה הינה פעולה שאורכת שעות ארוכות ונתונה להטיות רבות: גודל המאסף תלוי ביכולתו של האדם לקטלג ולמספר אותו ובנוסף ישנן הטיות שקשורות ליכולת הזיהוי של החוקר המתבונן במאסף. מטרתנו בפרויקט זה היא ליצור כלי שיאפשר לחוקרים לאסוף כמויות גדולות יותר של מאסף ולמספר ולקטלג אותו ביעילות ובמהירות ועל ידי כך ליצור תמונה אמינה יותר של המציאות ולהקל על החוקרים ליצר מסקנות טובות יותר. \n",
    "\n",
    "\n",
    "ב\"מעבדה לחקר הפרומניפרים\" במחלקה לגיאולגיה ומדעי הסביבה נעשה מחקר סביבתי באמצעות מעקב אחר יצורים חד תאיים בשם \"פורמניפרים\"(foramenifera). ייתרונם כאינדיקטורים לשינויים סביבתיים נובע משכיחות גבוהה, עושר מינים רחב, התאמה של מינים ספציפיים לסביבות שונות ומחזור חיים קצר שגורם לתגובה מהירה.\n",
    "</p>"
   ]
  },
  {
   "cell_type": "markdown",
   "metadata": {},
   "source": [
    "<p align='left'>\n",
    "Currently, there is a growing interest in Environmental research conducted using a method called \"Bio-Monitoring\". In this method, the researchers observe changes in the distribution of specific species population in a given environment. Using the assumption that a change in the distribution is caused due to a change in the environment. This assumption allows them to monitor changes in the environment over time or space. For instance: Pollution can decrease the amount of 'sensitive' species in the population.\n",
    "<br>\n",
    "Nowdays, researchers count and classify the organisms in the population 'manually'. Obviously, this is a tedious and time consuming process that is sensitive to many biases.\n",
    "<br>\n",
    "Our goal in this project is to create a tool to help the researches carry their research over much larger amounts of organisms and to <b>count and classify</b> those organisms quickly and efficiently and thus create more accurate and reliable conclusions about the state of the environment.\n",
    "</p>"
   ]
  },
  {
   "cell_type": "markdown",
   "metadata": {
    "collapsed": true
   },
   "source": [
    "<figure>\n",
    "<img src='glrxQ4.png'>\n",
    "<figcaption>Fig1. - A picture from a plate of sediment taken from the Mediterranean showing a foraminifera.</figcaption>\n",
    "</figure>"
   ]
  },
  {
   "cell_type": "code",
   "execution_count": null,
   "metadata": {
    "collapsed": true
   },
   "outputs": [],
   "source": []
  }
 ],
 "metadata": {
  "kernelspec": {
   "display_name": "Python 2",
   "language": "python",
   "name": "python2"
  },
  "language_info": {
   "codemirror_mode": {
    "name": "ipython",
    "version": 2
   },
   "file_extension": ".py",
   "mimetype": "text/x-python",
   "name": "python",
   "nbconvert_exporter": "python",
   "pygments_lexer": "ipython2",
   "version": "2.7.6"
  }
 },
 "nbformat": 4,
 "nbformat_minor": 0
}
